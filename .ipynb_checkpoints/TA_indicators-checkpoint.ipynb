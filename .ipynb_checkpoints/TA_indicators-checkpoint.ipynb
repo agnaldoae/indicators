{
 "cells": [
  {
   "cell_type": "markdown",
   "metadata": {},
   "source": [
    "TA-Lib installation and documentation\n",
    "https://mrjbq7.github.io/ta-lib/install.html\n",
    "\n",
    "Dependencies: OpenCV (installation: $ sudo pip install opencv-contrib-python)"
   ]
  },
  {
   "cell_type": "code",
   "execution_count": 66,
   "metadata": {},
   "outputs": [],
   "source": [
    "import talib\n"
   ]
  },
  {
   "cell_type": "code",
   "execution_count": 83,
   "metadata": {},
   "outputs": [],
   "source": [
    "import numpy as np\n",
    "import pandas as pd\n",
    "import math\n",
    "import cv2 as cv\n",
    "from sklearn import preprocessing"
   ]
  },
  {
   "cell_type": "code",
   "execution_count": 68,
   "metadata": {},
   "outputs": [],
   "source": [
    "def myCMFI(high, low, close, volume, timeperiod=2):\n",
    "    clv = ((close-low)-(high-close))/(high-low)\n",
    "    sum_mfv = talib.SUM((clv*volume), timeperiod=timeperiod)\n",
    "    sum_volume = talib.SUM(volume, timeperiod=timeperiod)\n",
    "    return (sum_mfv/sum_volume)"
   ]
  },
  {
   "cell_type": "code",
   "execution_count": 69,
   "metadata": {},
   "outputs": [],
   "source": [
    "def myHMA(close, timeperiod=4):\n",
    "    wma = talib.WMA(close, timeperiod=timeperiod)\n",
    "    wma2 = 2*(talib.WMA(close, timeperiod=timeperiod//2))\n",
    "    newPeriod= int(math.sqrt(timeperiod))\n",
    "    return talib.WMA( wma2 - wma,timeperiod=newPeriod)\n"
   ]
  },
  {
   "cell_type": "code",
   "execution_count": 85,
   "metadata": {},
   "outputs": [],
   "source": [
    "def Mat2Image(matrix, fileName):\n",
    "    preprocessing.normalize(matrix)\n",
    "    minimun = np.amin(np.min(matrix))\n",
    "    maximun = np.amax(np.amax(matrix))\n",
    "    diff = maximun-minimun\n",
    "    #print(\"max= %.1f, min= %.1f\"%(minimun,maximun))\n",
    "    for i in range(matrix.shape[0]):\n",
    "        for j in range(matrix.shape[1]):\n",
    "            matrix[i,j] = 255*((matrix[i,j]-minimun)/(diff))\n",
    "    cv.imwrite(fileName+'.png', matrix)\n"
   ]
  },
  {
   "cell_type": "code",
   "execution_count": 117,
   "metadata": {},
   "outputs": [],
   "source": [
    "file = \"labels/MSFT.csv\"\n",
    "table = pd.read_csv(file, index_col='Date')\n",
    "\n",
    "adj_close = table['Adj Close'].values\n",
    "close = table['Close'].values\n",
    "high = table['High'].values\n",
    "low = table['Low'].values\n",
    "volume = table['Volume'].values"
   ]
  },
  {
   "cell_type": "code",
   "execution_count": 118,
   "metadata": {
    "scrolled": false
   },
   "outputs": [
    {
     "data": {
      "text/html": [
       "<div>\n",
       "<table border=\"1\" class=\"dataframe\">\n",
       "  <thead>\n",
       "    <tr style=\"text-align: right;\">\n",
       "      <th></th>\n",
       "      <th>Unnamed: 0</th>\n",
       "      <th>Open</th>\n",
       "      <th>High</th>\n",
       "      <th>Low</th>\n",
       "      <th>Close</th>\n",
       "      <th>Adj Close</th>\n",
       "      <th>Volume</th>\n",
       "      <th>Labels</th>\n",
       "    </tr>\n",
       "    <tr>\n",
       "      <th>Date</th>\n",
       "      <th></th>\n",
       "      <th></th>\n",
       "      <th></th>\n",
       "      <th></th>\n",
       "      <th></th>\n",
       "      <th></th>\n",
       "      <th></th>\n",
       "      <th></th>\n",
       "    </tr>\n",
       "  </thead>\n",
       "  <tbody>\n",
       "    <tr>\n",
       "      <th>2002-01-02</th>\n",
       "      <td>0</td>\n",
       "      <td>33.325001</td>\n",
       "      <td>33.555000</td>\n",
       "      <td>32.755001</td>\n",
       "      <td>33.520000</td>\n",
       "      <td>24.325737</td>\n",
       "      <td>48124000</td>\n",
       "      <td>NaN</td>\n",
       "    </tr>\n",
       "    <tr>\n",
       "      <th>2002-01-03</th>\n",
       "      <td>1</td>\n",
       "      <td>33.555000</td>\n",
       "      <td>34.625000</td>\n",
       "      <td>33.544998</td>\n",
       "      <td>34.615002</td>\n",
       "      <td>25.120388</td>\n",
       "      <td>67590800</td>\n",
       "      <td>NaN</td>\n",
       "    </tr>\n",
       "    <tr>\n",
       "      <th>2002-01-04</th>\n",
       "      <td>2</td>\n",
       "      <td>34.625000</td>\n",
       "      <td>34.955002</td>\n",
       "      <td>34.334999</td>\n",
       "      <td>34.450001</td>\n",
       "      <td>25.000648</td>\n",
       "      <td>52731400</td>\n",
       "      <td>NaN</td>\n",
       "    </tr>\n",
       "    <tr>\n",
       "      <th>2002-01-07</th>\n",
       "      <td>3</td>\n",
       "      <td>34.875000</td>\n",
       "      <td>35.009998</td>\n",
       "      <td>34.174999</td>\n",
       "      <td>34.279999</td>\n",
       "      <td>24.877275</td>\n",
       "      <td>58508800</td>\n",
       "      <td>NaN</td>\n",
       "    </tr>\n",
       "    <tr>\n",
       "      <th>2002-01-08</th>\n",
       "      <td>4</td>\n",
       "      <td>34.345001</td>\n",
       "      <td>34.930000</td>\n",
       "      <td>34.000000</td>\n",
       "      <td>34.689999</td>\n",
       "      <td>25.174818</td>\n",
       "      <td>47736400</td>\n",
       "      <td>NaN</td>\n",
       "    </tr>\n",
       "  </tbody>\n",
       "</table>\n",
       "</div>"
      ],
      "text/plain": [
       "            Unnamed: 0       Open       High        Low      Close  Adj Close  \\\n",
       "Date                                                                            \n",
       "2002-01-02           0  33.325001  33.555000  32.755001  33.520000  24.325737   \n",
       "2002-01-03           1  33.555000  34.625000  33.544998  34.615002  25.120388   \n",
       "2002-01-04           2  34.625000  34.955002  34.334999  34.450001  25.000648   \n",
       "2002-01-07           3  34.875000  35.009998  34.174999  34.279999  24.877275   \n",
       "2002-01-08           4  34.345001  34.930000  34.000000  34.689999  25.174818   \n",
       "\n",
       "              Volume Labels  \n",
       "Date                         \n",
       "2002-01-02  48124000    NaN  \n",
       "2002-01-03  67590800    NaN  \n",
       "2002-01-04  52731400    NaN  \n",
       "2002-01-07  58508800    NaN  \n",
       "2002-01-08  47736400    NaN  "
      ]
     },
     "execution_count": 118,
     "metadata": {},
     "output_type": "execute_result"
    }
   ],
   "source": [
    "table.head()"
   ]
  },
  {
   "cell_type": "code",
   "execution_count": 125,
   "metadata": {},
   "outputs": [
    {
     "data": {
      "text/plain": [
       "Index(['2002-01-02', '2002-01-03', '2002-01-04', '2002-01-07', '2002-01-08',\n",
       "       '2002-01-09', '2002-01-10', '2002-01-11', '2002-01-14', '2002-01-15',\n",
       "       ...\n",
       "       '2006-12-15', '2006-12-18', '2006-12-19', '2006-12-20', '2006-12-21',\n",
       "       '2006-12-22', '2006-12-26', '2006-12-27', '2006-12-28', '2006-12-29'],\n",
       "      dtype='object', name='Date', length=1259)"
      ]
     },
     "execution_count": 125,
     "metadata": {},
     "output_type": "execute_result"
    }
   ],
   "source": [
    "table.index"
   ]
  },
  {
   "cell_type": "code",
   "execution_count": null,
   "metadata": {
    "scrolled": true
   },
   "outputs": [],
   "source": [
    "timeperiods = np.arange(6,21)\n",
    "print(timeperiods, timeperiods.dtype)"
   ]
  },
  {
   "cell_type": "code",
   "execution_count": 126,
   "metadata": {},
   "outputs": [],
   "source": [
    "df_SMA = pd.DataFrame(index=table.index)\n",
    "df_EMA = pd.DataFrame(index=table.index)\n",
    "df_WMA = pd.DataFrame(index=table.index)\n",
    "df_HMA = pd.DataFrame(index=table.index)\n",
    "df_TEMA = pd.DataFrame(index=table.index)\n",
    "df_CCI = pd.DataFrame(index=table.index)\n",
    "df_CMO = pd.DataFrame(index=table.index)\n",
    "df_MACD = pd.DataFrame(index=table.index)\n",
    "df_PPO = pd.DataFrame(index=table.index)\n",
    "df_ROC = pd.DataFrame(index=table.index)\n",
    "df_CMFI = pd.DataFrame(index=table.index)\n",
    "df_DX = pd.DataFrame(index=table.index)\n",
    "df_SAR = pd.DataFrame(index=table.index)\n",
    "df_RSI = pd.DataFrame(index=table.index)\n",
    "df_WILLR = pd.DataFrame(index=table.index)"
   ]
  },
  {
   "cell_type": "code",
   "execution_count": 127,
   "metadata": {},
   "outputs": [],
   "source": [
    "for i in timeperiods:\n",
    "    df_RSI[str(i)] = talib.RSI(close, timeperiod=i)\n",
    "    df_WILLR[str(i)] = talib.WILLR(high, low, close,timeperiod=i)\n",
    "    df_WMA[str(i)] = talib.WMA(close, timeperiod=i)\n",
    "    df_EMA[str(i)] = talib.EMA(close, timeperiod=i)\n",
    "    df_SMA[str(i)] = talib.SMA(close, timeperiod=i)\n",
    "    df_HMA[str(i)] = myHMA(close, timeperiod=i)\n",
    "    df_TEMA[str(i)] = talib.TEMA(close, timeperiod=i)\n",
    "    df_CCI[str(i)] = talib.CCI(high, low, close, timeperiod=i)\n",
    "    df_CMO[str(i)] = talib.CMO(close,timeperiod=i)\n",
    "    df_MACD[str(i)] = talib.MACD(close,fastperiod=i,slowperiod=i*2)[1] #macdsignal\n",
    "    df_PPO[str(i)] = talib.PPO(close, fastperiod=i,slowperiod=i*2)\n",
    "    df_ROC[str(i)] = talib.ROC(close,timeperiod=i)\n",
    "    df_CMFI[str(i)] = myCMFI(high, low, close, (volume)*1.0, timeperiod=i)\n",
    "    df_DX[str(i)] = talib.DX(high, low, close,timeperiod=i)\n",
    "    df_SAR[str(i)] = talib.SAR(high, low)\n",
    "    "
   ]
  },
  {
   "cell_type": "code",
   "execution_count": 87,
   "metadata": {},
   "outputs": [],
   "source": [
    "def myNormalize(array):\n",
    "    minimum = np.amin(array)\n",
    "    maximum = np.amax(array)\n",
    "    diff = maximum - minimum\n",
    "    if diff == 0: \n",
    "        diff = 0.001\n",
    "    t_m = np.ones(len(array))*minimum\n",
    "    t = array - t_m\n",
    "    return t/diff"
   ]
  },
  {
   "cell_type": "code",
   "execution_count": 88,
   "metadata": {},
   "outputs": [],
   "source": [
    "x = df_SAR.loc['2003-05-12']"
   ]
  },
  {
   "cell_type": "code",
   "execution_count": 93,
   "metadata": {},
   "outputs": [
    {
     "data": {
      "text/plain": [
       "6     24.92855\n",
       "7     24.92855\n",
       "8     24.92855\n",
       "9     24.92855\n",
       "10    24.92855\n",
       "11    24.92855\n",
       "12    24.92855\n",
       "13    24.92855\n",
       "14    24.92855\n",
       "15    24.92855\n",
       "16    24.92855\n",
       "17    24.92855\n",
       "18    24.92855\n",
       "19    24.92855\n",
       "20    24.92855\n",
       "Name: 2003-05-12, dtype: float64"
      ]
     },
     "execution_count": 93,
     "metadata": {},
     "output_type": "execute_result"
    }
   ],
   "source": [
    "x"
   ]
  },
  {
   "cell_type": "code",
   "execution_count": 92,
   "metadata": {},
   "outputs": [
    {
     "data": {
      "text/plain": [
       "6     0\n",
       "7     0\n",
       "8     0\n",
       "9     0\n",
       "10    0\n",
       "11    0\n",
       "12    0\n",
       "13    0\n",
       "14    0\n",
       "15    0\n",
       "16    0\n",
       "17    0\n",
       "18    0\n",
       "19    0\n",
       "20    0\n",
       "Name: 2003-05-12, dtype: float64"
      ]
     },
     "execution_count": 92,
     "metadata": {},
     "output_type": "execute_result"
    }
   ],
   "source": [
    "myNormalize(x)"
   ]
  },
  {
   "cell_type": "code",
   "execution_count": null,
   "metadata": {},
   "outputs": [],
   "source": [
    "for index in table.index: \n",
    "    img = np.zeros([15,15])\n",
    "    \n",
    "    img[0] = df_RSI.loc[index].values\n",
    "    img[1] = df_WILLR.loc[index].values\n",
    "    img[2] = df_WMA.loc[index].values\n",
    "    img[3] = df_EMA.loc[index].values\n",
    "    img[4] = df_SMA.loc[index].values\n",
    "    img[5] = df_HMA.loc[index].values\n",
    "    img[6] = df_TEMA.loc[index].values\n",
    "    img[7] = df_CCI.loc[index].values\n",
    "    img[8] = df_CMO.loc[index].values\n",
    "    img[9] = df_MACD.loc[index].values\n",
    "    img[10] = df_PPO.loc[index].values\n",
    "    img[11] = df_ROC.loc[index].values\n",
    "    img[12] = df_CMFI.loc[index].values\n",
    "    img[13] = df_DX.loc[index].values\n",
    "    img[14] = df_SAR.loc[index].values\n",
    "    \n",
    "    if np.argwhere(np.isnan(img)).size != 0: #there is some NaN\n",
    "        continue\n",
    "    else:\n",
    "        filename = table.loc[index]['Labels']\n",
    "        Mat2Image(img,filename+'/'+index)\n",
    "    "
   ]
  },
  {
   "cell_type": "code",
   "execution_count": null,
   "metadata": {},
   "outputs": [],
   "source": [
    "numH =np.array([33.5,34.6,34.9,35.0,34.6])\n",
    "numL =np.array([32.7,33.5,34.3,34.1,34.0])\n",
    "numC =np.array([33.4,34.4,34.4,34.2,34.6])\n",
    "volume = np.array([481244000.0,67590800.0,52731400.0,47736400.0,76304000.0])\n",
    "print(myDMI(numH, numL, numC, volume))"
   ]
  },
  {
   "cell_type": "code",
   "execution_count": 56,
   "metadata": {},
   "outputs": [
    {
     "name": "stdout",
     "output_type": "stream",
     "text": [
      "1\n",
      "3\n",
      "5\n",
      "7\n",
      "9\n"
     ]
    }
   ],
   "source": [
    "for i in range(10):\n",
    "    if i%2 == 0:\n",
    "        continue\n",
    "    print(i)"
   ]
  },
  {
   "cell_type": "code",
   "execution_count": null,
   "metadata": {},
   "outputs": [],
   "source": [
    "print(df_SAR.head())"
   ]
  },
  {
   "cell_type": "code",
   "execution_count": null,
   "metadata": {},
   "outputs": [],
   "source": [
    "df_SAR.iloc[0]"
   ]
  },
  {
   "cell_type": "code",
   "execution_count": null,
   "metadata": {},
   "outputs": [],
   "source": [
    "teste = np.ones([2,15])\n",
    "new = df_SAR.loc['2002-01-02'].values\n",
    "#teste[0] = new+2\n",
    "#teste[1] = new\n",
    "teste[1,3]=np.nan\n",
    "print(teste)"
   ]
  },
  {
   "cell_type": "code",
   "execution_count": null,
   "metadata": {},
   "outputs": [],
   "source": [
    "t = np.argwhere(np.isnan(teste))"
   ]
  },
  {
   "cell_type": "code",
   "execution_count": null,
   "metadata": {},
   "outputs": [],
   "source": [
    "#t=np.array([])\n",
    "if (t.size != 0): print('tem NaN')"
   ]
  },
  {
   "cell_type": "code",
   "execution_count": null,
   "metadata": {},
   "outputs": [],
   "source": [
    "df_SAR.iat[1,0]"
   ]
  },
  {
   "cell_type": "code",
   "execution_count": null,
   "metadata": {},
   "outputs": [],
   "source": [
    "df_SAR.ix[1]"
   ]
  },
  {
   "cell_type": "code",
   "execution_count": null,
   "metadata": {},
   "outputs": [],
   "source": []
  }
 ],
 "metadata": {
  "kernelspec": {
   "display_name": "Python 3",
   "language": "python",
   "name": "python3"
  },
  "language_info": {
   "codemirror_mode": {
    "name": "ipython",
    "version": 3
   },
   "file_extension": ".py",
   "mimetype": "text/x-python",
   "name": "python",
   "nbconvert_exporter": "python",
   "pygments_lexer": "ipython3",
   "version": "3.5.2"
  }
 },
 "nbformat": 4,
 "nbformat_minor": 2
}
