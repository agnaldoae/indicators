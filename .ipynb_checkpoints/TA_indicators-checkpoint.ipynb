{
 "cells": [
  {
   "cell_type": "markdown",
   "metadata": {},
   "source": [
    "TA-Lib installation and documentation\n",
    "https://mrjbq7.github.io/ta-lib/install.html\n"
   ]
  },
  {
   "cell_type": "code",
   "execution_count": null,
   "metadata": {},
   "outputs": [],
   "source": [
    "import talib\n"
   ]
  },
  {
   "cell_type": "code",
   "execution_count": null,
   "metadata": {},
   "outputs": [],
   "source": [
    "import numpy as np\n",
    "import pandas as pd\n",
    "import math"
   ]
  },
  {
   "cell_type": "code",
   "execution_count": null,
   "metadata": {},
   "outputs": [],
   "source": [
    "def myCMFI(high, low, close, volume, timeperiod=2):\n",
    "    clv = ((close-low)-(high-close))/(high-low)\n",
    "    sum_mfv = talib.SUM((clv*volume), timeperiod=timeperiod)\n",
    "    sum_volume = talib.SUM(volume, timeperiod=timeperiod)\n",
    "    return (sum_mfv/sum_volume)"
   ]
  },
  {
   "cell_type": "code",
   "execution_count": null,
   "metadata": {},
   "outputs": [],
   "source": [
    "def myHMA(close, timeperiod=4):\n",
    "    wma = talib.WMA(close, timeperiod=timeperiod)\n",
    "    wma2 = 2*(talib.WMA(close, timeperiod=timeperiod//2))\n",
    "    newPeriod= int(math.sqrt(timeperiod))\n",
    "    return talib.WMA( wma2 - wma,timeperiod=newPeriod)\n"
   ]
  },
  {
   "cell_type": "code",
   "execution_count": null,
   "metadata": {},
   "outputs": [],
   "source": [
    "table = pd.read_csv(\"MSFT.csv\")\n",
    "\n",
    "adj_close = table['Adj Close'].values\n",
    "close = table['Close'].values\n",
    "high = table['High'].values\n",
    "low = table['Low'].values\n",
    "volume = table['Volume'].values"
   ]
  },
  {
   "cell_type": "code",
   "execution_count": null,
   "metadata": {
    "scrolled": false
   },
   "outputs": [],
   "source": [
    "table.head()"
   ]
  },
  {
   "cell_type": "code",
   "execution_count": null,
   "metadata": {
    "scrolled": true
   },
   "outputs": [],
   "source": [
    "timeperiods = np.arange(6,21)\n",
    "print(timeperiods, timeperiods.dtype)"
   ]
  },
  {
   "cell_type": "code",
   "execution_count": null,
   "metadata": {},
   "outputs": [],
   "source": [
    "df_SMA = pd.DataFrame(index=table['Date'])\n",
    "df_EMA = pd.DataFrame(index=table['Date'])\n",
    "df_WMA = pd.DataFrame(index=table['Date'])\n",
    "df_HMA = pd.DataFrame(index=table['Date'])\n",
    "df_TEMA = pd.DataFrame(index=table['Date'])\n",
    "df_CCI = pd.DataFrame(index=table['Date'])\n",
    "df_CMO = pd.DataFrame(index=table['Date'])\n",
    "df_MACD = pd.DataFrame(index=table['Date'])\n",
    "df_PPO = pd.DataFrame(index=table['Date'])\n",
    "df_ROC = pd.DataFrame(index=table['Date'])\n",
    "df_CMFI = pd.DataFrame(index=table['Date'])\n",
    "df_DX = pd.DataFrame(index=table['Date'])\n",
    "df_SAR = pd.DataFrame(index=table['Date'])\n",
    "df_RSI = pd.DataFrame(index=table['Date'])\n",
    "df_WILLR = pd.DataFrame(index=table['Date'])"
   ]
  },
  {
   "cell_type": "code",
   "execution_count": null,
   "metadata": {},
   "outputs": [],
   "source": [
    "for i in timeperiods:\n",
    "    df_RSI[str(i)] = talib.RSI(close, timeperiod=i)\n",
    "    df_WILLR[str(i)] = talib.WILLR(high, low, close,timeperiod=i)\n",
    "    df_WMA[str(i)] = talib.WMA(close, timeperiod=i)\n",
    "    df_EMA[str(i)] = talib.EMA(close, timeperiod=i)\n",
    "    df_SMA[str(i)] = talib.SMA(close, timeperiod=i)\n",
    "    df_HMA[str(i)] = myHMA(close, timeperiod=i)\n",
    "    df_TEMA[str(i)] = talib.TEMA(close, timeperiod=i)\n",
    "    df_CCI[str(i)] = talib.CCI(high, low, close, timeperiod=i)\n",
    "    df_CMO[str(i)] = talib.CMO(close,timeperiod=i)\n",
    "    df_MACD[str(i)] = talib.MACD(close,fastperiod=i,slowperiod=i*2)[1] #macdsignal\n",
    "    df_PPO[str(i)] = talib.PPO(close, fastperiod=i,slowperiod=i*2)\n",
    "    df_ROC[str(i)] = talib.ROC(close,timeperiod=i)\n",
    "    df_CMFI[str(i)] = myCMFI(high, low, close, (volume)*1.0, timeperiod=i)\n",
    "    df_DX[str(i)] = talib.DX(high, low, close,timeperiod=i)\n",
    "    df_SAR[str(i)] = talib.SAR(high, low)\n",
    "    "
   ]
  },
  {
   "cell_type": "code",
   "execution_count": null,
   "metadata": {},
   "outputs": [],
   "source": [
    "numH =np.array([33.5,34.6,34.9,35.0,34.6])\n",
    "numL =np.array([32.7,33.5,34.3,34.1,34.0])\n",
    "numC =np.array([33.4,34.4,34.4,34.2,34.6])\n",
    "volume = np.array([481244000.0,67590800.0,52731400.0,47736400.0,76304000.0])\n",
    "print(myDMI(numH, numL, numC, volume))"
   ]
  },
  {
   "cell_type": "code",
   "execution_count": null,
   "metadata": {},
   "outputs": [],
   "source": [
    "print(myHMA(numL))"
   ]
  },
  {
   "cell_type": "code",
   "execution_count": null,
   "metadata": {},
   "outputs": [],
   "source": []
  }
 ],
 "metadata": {
  "kernelspec": {
   "display_name": "Python 3",
   "language": "python",
   "name": "python3"
  },
  "language_info": {
   "codemirror_mode": {
    "name": "ipython",
    "version": 3
   },
   "file_extension": ".py",
   "mimetype": "text/x-python",
   "name": "python",
   "nbconvert_exporter": "python",
   "pygments_lexer": "ipython3",
   "version": "3.5.2"
  }
 },
 "nbformat": 4,
 "nbformat_minor": 2
}
