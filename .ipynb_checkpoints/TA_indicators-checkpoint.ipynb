{
 "cells": [
  {
   "cell_type": "markdown",
   "metadata": {},
   "source": [
    "TA-Lib installation and documentation\n",
    "https://mrjbq7.github.io/ta-lib/install.html\n"
   ]
  },
  {
   "cell_type": "code",
   "execution_count": 7,
   "metadata": {},
   "outputs": [],
   "source": [
    "import talib\n"
   ]
  },
  {
   "cell_type": "code",
   "execution_count": 64,
   "metadata": {},
   "outputs": [],
   "source": [
    "import numpy as np\n",
    "import pandas as pd\n",
    "import math"
   ]
  },
  {
   "cell_type": "code",
   "execution_count": 80,
   "metadata": {},
   "outputs": [],
   "source": [
    "def myCMFI(high, low, close, volume, timeperiod=2):\n",
    "    clv = ((close-low)-(high-close))/(high-low)\n",
    "    sum_mfv = talib.SUM((clv*volume), timeperiod=timeperiod)\n",
    "    sum_volume = talib.SUM(volume, timeperiod=timeperiod)\n",
    "    return (sum_mfv/sum_volume)"
   ]
  },
  {
   "cell_type": "code",
   "execution_count": 81,
   "metadata": {},
   "outputs": [],
   "source": [
    "def myHMA(close, timeperiod=4):\n",
    "    wma = talib.WMA(close, timeperiod=timeperiod)\n",
    "    wma2 = 2*(talib.WMA(close, timeperiod=timeperiod//2))\n",
    "    newPeriod= int(math.sqrt(timeperiod))\n",
    "    return talib.WMA( wma2 - wma,timeperiod=newPeriod)\n"
   ]
  },
  {
   "cell_type": "code",
   "execution_count": 74,
   "metadata": {},
   "outputs": [],
   "source": [
    "table = pd.read_csv(\"MSFT.csv\")\n",
    "\n",
    "adj_close = table['Adj Close'].values\n",
    "close = table['Close'].values\n",
    "high = table['High'].values\n",
    "low = table['Low'].values\n",
    "volume = table['Volume'].values"
   ]
  },
  {
   "cell_type": "code",
   "execution_count": 13,
   "metadata": {
    "scrolled": false
   },
   "outputs": [
    {
     "data": {
      "text/html": [
       "<div>\n",
       "<table border=\"1\" class=\"dataframe\">\n",
       "  <thead>\n",
       "    <tr style=\"text-align: right;\">\n",
       "      <th></th>\n",
       "      <th>Date</th>\n",
       "      <th>Open</th>\n",
       "      <th>High</th>\n",
       "      <th>Low</th>\n",
       "      <th>Close</th>\n",
       "      <th>Adj Close</th>\n",
       "      <th>Volume</th>\n",
       "    </tr>\n",
       "  </thead>\n",
       "  <tbody>\n",
       "    <tr>\n",
       "      <th>0</th>\n",
       "      <td>2002-01-02</td>\n",
       "      <td>33.325001</td>\n",
       "      <td>33.555000</td>\n",
       "      <td>32.755001</td>\n",
       "      <td>33.520000</td>\n",
       "      <td>24.325737</td>\n",
       "      <td>48124000</td>\n",
       "    </tr>\n",
       "    <tr>\n",
       "      <th>1</th>\n",
       "      <td>2002-01-03</td>\n",
       "      <td>33.555000</td>\n",
       "      <td>34.625000</td>\n",
       "      <td>33.544998</td>\n",
       "      <td>34.615002</td>\n",
       "      <td>25.120388</td>\n",
       "      <td>67590800</td>\n",
       "    </tr>\n",
       "    <tr>\n",
       "      <th>2</th>\n",
       "      <td>2002-01-04</td>\n",
       "      <td>34.625000</td>\n",
       "      <td>34.955002</td>\n",
       "      <td>34.334999</td>\n",
       "      <td>34.450001</td>\n",
       "      <td>25.000648</td>\n",
       "      <td>52731400</td>\n",
       "    </tr>\n",
       "    <tr>\n",
       "      <th>3</th>\n",
       "      <td>2002-01-07</td>\n",
       "      <td>34.875000</td>\n",
       "      <td>35.009998</td>\n",
       "      <td>34.174999</td>\n",
       "      <td>34.279999</td>\n",
       "      <td>24.877275</td>\n",
       "      <td>58508800</td>\n",
       "    </tr>\n",
       "    <tr>\n",
       "      <th>4</th>\n",
       "      <td>2002-01-08</td>\n",
       "      <td>34.345001</td>\n",
       "      <td>34.930000</td>\n",
       "      <td>34.000000</td>\n",
       "      <td>34.689999</td>\n",
       "      <td>25.174818</td>\n",
       "      <td>47736400</td>\n",
       "    </tr>\n",
       "  </tbody>\n",
       "</table>\n",
       "</div>"
      ],
      "text/plain": [
       "         Date       Open       High        Low      Close  Adj Close    Volume\n",
       "0  2002-01-02  33.325001  33.555000  32.755001  33.520000  24.325737  48124000\n",
       "1  2002-01-03  33.555000  34.625000  33.544998  34.615002  25.120388  67590800\n",
       "2  2002-01-04  34.625000  34.955002  34.334999  34.450001  25.000648  52731400\n",
       "3  2002-01-07  34.875000  35.009998  34.174999  34.279999  24.877275  58508800\n",
       "4  2002-01-08  34.345001  34.930000  34.000000  34.689999  25.174818  47736400"
      ]
     },
     "execution_count": 13,
     "metadata": {},
     "output_type": "execute_result"
    }
   ],
   "source": [
    "table.head()"
   ]
  },
  {
   "cell_type": "code",
   "execution_count": 21,
   "metadata": {
    "scrolled": true
   },
   "outputs": [
    {
     "name": "stdout",
     "output_type": "stream",
     "text": [
      "[ 6  7  8  9 10 11 12 13 14 15 16 17 18 19 20] int64\n"
     ]
    }
   ],
   "source": [
    "timeperiods = np.arange(6,21)\n",
    "print(timeperiods, timeperiods.dtype)"
   ]
  },
  {
   "cell_type": "code",
   "execution_count": 75,
   "metadata": {},
   "outputs": [],
   "source": [
    "df_SMA = pd.DataFrame(index=table['Date'])\n",
    "df_EMA = pd.DataFrame(index=table['Date'])\n",
    "df_WMA = pd.DataFrame(index=table['Date'])\n",
    "df_HMA = pd.DataFrame(index=table['Date'])\n",
    "df_TEMA = pd.DataFrame(index=table['Date'])\n",
    "df_CCI = pd.DataFrame(index=table['Date'])\n",
    "df_CMO = pd.DataFrame(index=table['Date'])\n",
    "df_MACD = pd.DataFrame(index=table['Date'])\n",
    "df_PPO = pd.DataFrame(index=table['Date'])\n",
    "df_ROC = pd.DataFrame(index=table['Date'])\n",
    "df_CMFI = pd.DataFrame(index=table['Date'])\n",
    "df_DX = pd.DataFrame(index=table['Date'])\n",
    "df_SAR = pd.DataFrame(index=table['Date'])\n",
    "df_RSI = pd.DataFrame(index=table['Date'])\n",
    "df_WILLR = pd.DataFrame(index=table['Date'])"
   ]
  },
  {
   "cell_type": "code",
   "execution_count": 101,
   "metadata": {},
   "outputs": [],
   "source": [
    "for i in timeperiods:\n",
    "    df_RSI[str(i)] = talib.RSI(close, timeperiod=i)\n",
    "    df_WILLR[str(i)] = talib.WILLR(high, low, close,timeperiod=i)\n",
    "    df_WMA[str(i)] = talib.WMA(close, timeperiod=i)\n",
    "    df_EMA[str(i)] = talib.EMA(close, timeperiod=i)\n",
    "    df_SMA[str(i)] = talib.SMA(close, timeperiod=i)\n",
    "    df_HMA[str(i)] = myHMA(close, timeperiod=i)\n",
    "    df_TEMA[str(i)] = talib.TEMA(close, timeperiod=i)\n",
    "    df_CCI[str(i)] = talib.CCI(high, low, close, timeperiod=i)\n",
    "    df_CMO[str(i)] = talib.CMO(close,timeperiod=i)\n",
    "    df_MACD[str(i)] = talib.MACD(close,fastperiod=i,slowperiod=i*2)[1] #macdsignal\n",
    "    df_PPO[str(i)] = talib.PPO(close, fastperiod=i,slowperiod=i*2)\n",
    "    df_ROC[str(i)] = talib.ROC(close,timeperiod=i)\n",
    "    df_CMFI[str(i)] = myCMFI(high, low, close, (volume)*1.0, timeperiod=i)\n",
    "    df_DX[str(i)] = talib.DX(high, low, close,timeperiod=i)\n",
    "    df_SAR[str(i)] = talib.SAR(high, low)\n",
    "    "
   ]
  },
  {
   "cell_type": "code",
   "execution_count": 102,
   "metadata": {},
   "outputs": [
    {
     "name": "stdout",
     "output_type": "stream",
     "text": [
      "                   6         7         8         9        10        11  \\\n",
      "Date                                                                     \n",
      "2002-01-02       NaN       NaN       NaN       NaN       NaN       NaN   \n",
      "2002-01-03       NaN       NaN       NaN       NaN       NaN       NaN   \n",
      "2002-01-04       NaN       NaN       NaN       NaN       NaN       NaN   \n",
      "2002-01-07       NaN       NaN       NaN       NaN       NaN       NaN   \n",
      "2002-01-08       NaN       NaN       NaN       NaN       NaN       NaN   \n",
      "2002-01-09       NaN       NaN       NaN       NaN       NaN       NaN   \n",
      "2002-01-10       NaN       NaN       NaN       NaN       NaN       NaN   \n",
      "2002-01-11       NaN       NaN       NaN       NaN       NaN       NaN   \n",
      "2002-01-14       NaN       NaN       NaN       NaN       NaN       NaN   \n",
      "2002-01-15       NaN       NaN       NaN       NaN       NaN       NaN   \n",
      "2002-01-16       NaN       NaN       NaN       NaN       NaN       NaN   \n",
      "2002-01-17  0.220484       NaN       NaN       NaN       NaN       NaN   \n",
      "2002-01-18 -0.436617       NaN       NaN       NaN       NaN       NaN   \n",
      "2002-01-22 -0.869776 -0.646429       NaN       NaN       NaN       NaN   \n",
      "2002-01-23 -1.403159 -1.324628       NaN       NaN       NaN       NaN   \n",
      "2002-01-24 -2.142778 -1.659125 -1.388837       NaN       NaN       NaN   \n",
      "2002-01-25 -2.475624 -2.346791 -1.957229       NaN       NaN       NaN   \n",
      "2002-01-28 -3.389323 -2.716761 -2.529492 -2.011584       NaN       NaN   \n",
      "2002-01-29 -3.494706 -3.598622 -2.967834 -2.826235       NaN       NaN   \n",
      "2002-01-30 -3.197705 -3.690576 -3.765211 -3.146027 -2.865049       NaN   \n",
      "2002-01-31 -2.616652 -3.270419 -3.701253 -3.754318 -3.246316       NaN   \n",
      "2002-02-01 -2.251898 -2.876967 -3.489589 -3.855303 -3.852327 -3.257900   \n",
      "2002-02-04 -2.090919 -2.857270 -3.237060 -3.748530 -4.040259 -4.064216   \n",
      "2002-02-05 -1.671643 -2.538806 -3.206317 -3.569939 -4.002866 -4.212429   \n",
      "2002-02-06 -1.437791 -2.489361 -3.107947 -3.555949 -3.853947 -4.210906   \n",
      "2002-02-07 -1.638732 -1.947690 -2.969772 -3.512990 -3.933796 -4.175220   \n",
      "2002-02-08 -2.051199 -1.839831 -2.607216 -3.408042 -3.778957 -4.142519   \n",
      "2002-02-11 -2.005622 -2.056781 -2.102143 -2.903407 -3.636762 -4.006497   \n",
      "2002-02-12 -1.785737 -2.231180 -2.233150 -2.719219 -3.347956 -3.906000   \n",
      "2002-02-13 -1.337850 -1.755317 -2.142475 -2.359753 -2.919175 -3.511379   \n",
      "...              ...       ...       ...       ...       ...       ...   \n",
      "2006-11-16  0.742652  0.815291  0.976918  1.080363  1.074373  1.093276   \n",
      "2006-11-17  0.652659  0.806174  0.942359  1.078038  1.136679  1.151710   \n",
      "2006-11-20  0.701934  0.823448  0.997249  1.132249  1.247926  1.262118   \n",
      "2006-11-21  0.685340  0.882317  0.979279  1.188066  1.296105  1.364357   \n",
      "2006-11-22  0.768292  0.877406  1.008805  1.134978  1.338925  1.434837   \n",
      "2006-11-24  0.899473  0.882503  0.979032  1.096229  1.265389  1.444021   \n",
      "2006-11-27  0.762625  0.900550  0.932827  0.997875  1.149976  1.327509   \n",
      "2006-11-28  0.719993  0.754103  0.905996  0.947507  1.015003  1.210110   \n",
      "2006-11-29  0.445698  0.692493  0.792049  0.964994  0.982801  1.084996   \n",
      "2006-11-30  0.126936  0.411523  0.687402  0.803205  0.969946  0.995110   \n",
      "2006-12-01 -0.293453  0.053272  0.330873  0.644113  0.790487  0.930867   \n",
      "2006-12-04 -0.595019 -0.227624  0.065741  0.360521  0.663739  0.806101   \n",
      "2006-12-05 -0.697208 -0.508647 -0.246054  0.033966  0.355521  0.666212   \n",
      "2006-12-06 -0.808228 -0.714753 -0.496731 -0.266203  0.032318  0.346910   \n",
      "2006-12-07 -0.923983 -0.827448 -0.684087 -0.536578 -0.309639  0.013938   \n",
      "2006-12-08 -0.755038 -0.909951 -0.738884 -0.576200 -0.455844 -0.216664   \n",
      "2006-12-11 -0.409184 -0.738294 -0.766372 -0.577750 -0.486212 -0.371103   \n",
      "2006-12-12 -0.258824 -0.469278 -0.742973 -0.688743 -0.486146 -0.412744   \n",
      "2006-12-13 -0.039811 -0.272573 -0.488593 -0.632040 -0.547042 -0.411001   \n",
      "2006-12-14  0.380314  0.109433 -0.205993 -0.399473 -0.466441 -0.367329   \n",
      "2006-12-15  0.963282  0.519519  0.186773 -0.131827 -0.225313 -0.258907   \n",
      "2006-12-18  1.089140  0.901993  0.541068  0.160084 -0.118488 -0.140075   \n",
      "2006-12-19  1.094931  1.085166  0.915642  0.523501  0.155700 -0.016919   \n",
      "2006-12-20  1.250281  1.172715  1.058201  0.927790  0.499112  0.172080   \n",
      "2006-12-21  1.250105  1.228193  1.156668  1.051009  0.871242  0.462401   \n",
      "2006-12-22  0.824407  1.195930  1.185570  1.041118  0.972944  0.748459   \n",
      "2006-12-26  0.391323  0.948027  1.185504  1.171742  1.038038  0.918954   \n",
      "2006-12-27  0.290194  0.616854  1.017378  1.222806  1.129819  1.026113   \n",
      "2006-12-28  0.161641  0.387782  0.748528  1.026102  1.204982  1.117421   \n",
      "2006-12-29 -0.086291  0.215198  0.551976  0.802484  1.048833  1.139623   \n",
      "\n",
      "                  12        13        14        15        16        17  \\\n",
      "Date                                                                     \n",
      "2002-01-02       NaN       NaN       NaN       NaN       NaN       NaN   \n",
      "2002-01-03       NaN       NaN       NaN       NaN       NaN       NaN   \n",
      "2002-01-04       NaN       NaN       NaN       NaN       NaN       NaN   \n",
      "2002-01-07       NaN       NaN       NaN       NaN       NaN       NaN   \n",
      "2002-01-08       NaN       NaN       NaN       NaN       NaN       NaN   \n",
      "2002-01-09       NaN       NaN       NaN       NaN       NaN       NaN   \n",
      "2002-01-10       NaN       NaN       NaN       NaN       NaN       NaN   \n",
      "2002-01-11       NaN       NaN       NaN       NaN       NaN       NaN   \n",
      "2002-01-14       NaN       NaN       NaN       NaN       NaN       NaN   \n",
      "2002-01-15       NaN       NaN       NaN       NaN       NaN       NaN   \n",
      "2002-01-16       NaN       NaN       NaN       NaN       NaN       NaN   \n",
      "2002-01-17       NaN       NaN       NaN       NaN       NaN       NaN   \n",
      "2002-01-18       NaN       NaN       NaN       NaN       NaN       NaN   \n",
      "2002-01-22       NaN       NaN       NaN       NaN       NaN       NaN   \n",
      "2002-01-23       NaN       NaN       NaN       NaN       NaN       NaN   \n",
      "2002-01-24       NaN       NaN       NaN       NaN       NaN       NaN   \n",
      "2002-01-25       NaN       NaN       NaN       NaN       NaN       NaN   \n",
      "2002-01-28       NaN       NaN       NaN       NaN       NaN       NaN   \n",
      "2002-01-29       NaN       NaN       NaN       NaN       NaN       NaN   \n",
      "2002-01-30       NaN       NaN       NaN       NaN       NaN       NaN   \n",
      "2002-01-31       NaN       NaN       NaN       NaN       NaN       NaN   \n",
      "2002-02-01       NaN       NaN       NaN       NaN       NaN       NaN   \n",
      "2002-02-04       NaN       NaN       NaN       NaN       NaN       NaN   \n",
      "2002-02-05 -4.107102       NaN       NaN       NaN       NaN       NaN   \n",
      "2002-02-06 -4.425799       NaN       NaN       NaN       NaN       NaN   \n",
      "2002-02-07 -4.445379 -4.521129       NaN       NaN       NaN       NaN   \n",
      "2002-02-08 -4.336299 -4.610497       NaN       NaN       NaN       NaN   \n",
      "2002-02-11 -4.325500 -4.462312 -4.610536       NaN       NaN       NaN   \n",
      "2002-02-12 -4.227084 -4.495049 -4.644483       NaN       NaN       NaN   \n",
      "2002-02-13 -4.058105 -4.347255 -4.561446 -4.605253       NaN       NaN   \n",
      "...              ...       ...       ...       ...       ...       ...   \n",
      "2006-11-16  1.108936  1.136058  1.286065  1.329818  1.340458  1.459936   \n",
      "2006-11-17  1.140706  1.161017  1.287061  1.396150  1.408296  1.471300   \n",
      "2006-11-20  1.252438  1.244093  1.284549  1.456513  1.528557  1.525076   \n",
      "2006-11-21  1.391191  1.352233  1.346246  1.474762  1.604615  1.643079   \n",
      "2006-11-22  1.464158  1.469239  1.436376  1.452222  1.624673  1.719599   \n",
      "2006-11-24  1.502993  1.546467  1.526614  1.500386  1.602609  1.737743   \n",
      "2006-11-27  1.496474  1.526798  1.554238  1.543387  1.543019  1.691767   \n",
      "2006-11-28  1.372451  1.506327  1.553804  1.560127  1.557269  1.641982   \n",
      "2006-11-29  1.284267  1.438012  1.539066  1.570740  1.583295  1.603017   \n",
      "2006-11-30  1.141194  1.325098  1.447674  1.560042  1.572045  1.591008   \n",
      "2006-12-01  0.997435  1.156245  1.334838  1.431258  1.527827  1.548201   \n",
      "2006-12-04  0.942214  1.052049  1.199564  1.347295  1.454420  1.528574   \n",
      "2006-12-05  0.785184  0.949675  1.073505  1.218032  1.339180  1.431277   \n",
      "2006-12-06  0.642776  0.762436  0.962585  1.080927  1.200885  1.332388   \n",
      "2006-12-07  0.335570  0.599322  0.748075  0.956801  1.075823  1.173780   \n",
      "2006-12-08  0.092336  0.392672  0.641049  0.819784  1.014477  1.108943   \n",
      "2006-12-11 -0.114951  0.191546  0.453769  0.713764  0.896405  1.082478   \n",
      "2006-12-12 -0.276544 -0.028836  0.258404  0.505730  0.786256  0.957165   \n",
      "2006-12-13 -0.337254 -0.176787  0.073064  0.325451  0.583321  0.861279   \n",
      "2006-12-14 -0.259019 -0.168682 -0.014589  0.215899  0.450105  0.723027   \n",
      "2006-12-15 -0.217680 -0.117499 -0.006069  0.152021  0.349293  0.590196   \n",
      "2006-12-18 -0.144068 -0.116098  0.001213  0.113299  0.261669  0.447055   \n",
      "2006-12-19 -0.005644 -0.049522 -0.019374  0.118809  0.240083  0.364394   \n",
      "2006-12-20  0.071858  0.106760  0.056855  0.107356  0.243980  0.357928   \n",
      "2006-12-21  0.239356  0.178193  0.175246  0.134325  0.209782  0.354500   \n",
      "2006-12-22  0.388470  0.243062  0.215054  0.208735  0.195865  0.277357   \n",
      "2006-12-26  0.695207  0.435138  0.330734  0.272817  0.272860  0.288001   \n",
      "2006-12-27  0.855519  0.658023  0.470242  0.397652  0.338159  0.360364   \n",
      "2006-12-28  0.970819  0.796802  0.680830  0.535759  0.439263  0.389840   \n",
      "2006-12-29  1.077598  0.887712  0.735852  0.679262  0.568836  0.475083   \n",
      "\n",
      "                  18        19        20  \n",
      "Date                                      \n",
      "2002-01-02       NaN       NaN       NaN  \n",
      "2002-01-03       NaN       NaN       NaN  \n",
      "2002-01-04       NaN       NaN       NaN  \n",
      "2002-01-07       NaN       NaN       NaN  \n",
      "2002-01-08       NaN       NaN       NaN  \n",
      "2002-01-09       NaN       NaN       NaN  \n",
      "2002-01-10       NaN       NaN       NaN  \n",
      "2002-01-11       NaN       NaN       NaN  \n",
      "2002-01-14       NaN       NaN       NaN  \n",
      "2002-01-15       NaN       NaN       NaN  \n",
      "2002-01-16       NaN       NaN       NaN  \n",
      "2002-01-17       NaN       NaN       NaN  \n",
      "2002-01-18       NaN       NaN       NaN  \n",
      "2002-01-22       NaN       NaN       NaN  \n",
      "2002-01-23       NaN       NaN       NaN  \n",
      "2002-01-24       NaN       NaN       NaN  \n",
      "2002-01-25       NaN       NaN       NaN  \n",
      "2002-01-28       NaN       NaN       NaN  \n",
      "2002-01-29       NaN       NaN       NaN  \n",
      "2002-01-30       NaN       NaN       NaN  \n",
      "2002-01-31       NaN       NaN       NaN  \n",
      "2002-02-01       NaN       NaN       NaN  \n",
      "2002-02-04       NaN       NaN       NaN  \n",
      "2002-02-05       NaN       NaN       NaN  \n",
      "2002-02-06       NaN       NaN       NaN  \n",
      "2002-02-07       NaN       NaN       NaN  \n",
      "2002-02-08       NaN       NaN       NaN  \n",
      "2002-02-11       NaN       NaN       NaN  \n",
      "2002-02-12       NaN       NaN       NaN  \n",
      "2002-02-13       NaN       NaN       NaN  \n",
      "...              ...       ...       ...  \n",
      "2006-11-16  1.558771  1.689502  1.896802  \n",
      "2006-11-17  1.579152  1.658266  1.821645  \n",
      "2006-11-20  1.635609  1.725683  1.811654  \n",
      "2006-11-21  1.687869  1.786224  1.856483  \n",
      "2006-11-22  1.742794  1.834439  1.917265  \n",
      "2006-11-24  1.801618  1.870788  1.953517  \n",
      "2006-11-27  1.796973  1.847932  1.962973  \n",
      "2006-11-28  1.759629  1.837246  1.932505  \n",
      "2006-11-29  1.732434  1.822600  1.887087  \n",
      "2006-11-30  1.690257  1.791840  1.856980  \n",
      "2006-12-01  1.589829  1.733061  1.811685  \n",
      "2006-12-04  1.554592  1.670427  1.786874  \n",
      "2006-12-05  1.509405  1.556268  1.712891  \n",
      "2006-12-06  1.405242  1.487090  1.605544  \n",
      "2006-12-07  1.290822  1.368470  1.468214  \n",
      "2006-12-08  1.215163  1.310170  1.389116  \n",
      "2006-12-11  1.153552  1.243648  1.338616  \n",
      "2006-12-12  1.116199  1.196467  1.266912  \n",
      "2006-12-13  1.025445  1.158943  1.225290  \n",
      "2006-12-14  0.980887  1.117510  1.253713  \n",
      "2006-12-15  0.857574  1.101337  1.212235  \n",
      "2006-12-18  0.704593  0.954850  1.169621  \n",
      "2006-12-19  0.560521  0.815025  1.053496  \n",
      "2006-12-20  0.474606  0.688146  0.926361  \n",
      "2006-12-21  0.448541  0.579630  0.792893  \n",
      "2006-12-22  0.417052  0.508350  0.661721  \n",
      "2006-12-26  0.380759  0.500617  0.607215  \n",
      "2006-12-27  0.383120  0.472393  0.586912  \n",
      "2006-12-28  0.437248  0.474559  0.548099  \n",
      "2006-12-29  0.450967  0.505271  0.543372  \n",
      "\n",
      "[1259 rows x 15 columns]\n"
     ]
    }
   ],
   "source": [
    "print(df_PPO)"
   ]
  },
  {
   "cell_type": "code",
   "execution_count": 42,
   "metadata": {},
   "outputs": [
    {
     "name": "stdout",
     "output_type": "stream",
     "text": [
      "[-0.25       -0.11888112  0.01408451  0.14893617  0.28571429  0.42446043\n",
      "  0.56521739  0.7080292   0.85294118  1.          1.14925373  1.30075188\n",
      "  1.45454545  1.61068702  1.76923077]\n"
     ]
    }
   ],
   "source": [
    "closee = timeperiods*2\n",
    "openn = timeperiods*0.5\n",
    "high = timeperiods+15\n",
    "low= timeperiods*1.1\n",
    "resul = ((closee-low)-(high-closee))/(high-low)\n",
    "print(resul)"
   ]
  },
  {
   "cell_type": "code",
   "execution_count": 48,
   "metadata": {},
   "outputs": [
    {
     "name": "stdout",
     "output_type": "stream",
     "text": [
      "[ nan 21.1 23.  23.5 23.3 22.3 22.5]\n"
     ]
    }
   ],
   "source": [
    "num = np.array([10.1, 11.0, 12.0, 11.5, 11.8, 10.5, 12.0])\n",
    "soma = talib.SUM((num), timeperiod=2)\n",
    "print(soma)"
   ]
  },
  {
   "cell_type": "code",
   "execution_count": 62,
   "metadata": {},
   "outputs": [
    {
     "name": "stdout",
     "output_type": "stream",
     "text": [
      "clv [ 0.75        0.63636364 -0.66666667 -0.77777778  1.        ]\n",
      "sum_clv [            nan  4.03945327e+08  7.85806061e+06 -7.22825778e+07\n",
      "  3.91756889e+07]\n",
      "sum volume [         nan 5.488348e+08 1.203222e+08 1.004678e+08 1.240404e+08]\n",
      "[        nan  0.73600531  0.06530849 -0.71946014  0.31583008]\n"
     ]
    }
   ],
   "source": [
    "numH =np.array([33.5,34.6,34.9,35.0,34.6])\n",
    "numL =np.array([32.7,33.5,34.3,34.1,34.0])\n",
    "numC =np.array([33.4,34.4,34.4,34.2,34.6])\n",
    "volume = np.array([481244000.0,67590800.0,52731400.0,47736400.0,76304000.0])\n",
    "print(myDMI(numH, numL, numC, volume))"
   ]
  },
  {
   "cell_type": "code",
   "execution_count": 72,
   "metadata": {},
   "outputs": [
    {
     "name": "stdout",
     "output_type": "stream",
     "text": [
      "[        nan         nan         nan         nan 34.16222222]\n"
     ]
    }
   ],
   "source": [
    "print(myHMA(numL))"
   ]
  },
  {
   "cell_type": "code",
   "execution_count": null,
   "metadata": {},
   "outputs": [],
   "source": []
  }
 ],
 "metadata": {
  "kernelspec": {
   "display_name": "Python 3",
   "language": "python",
   "name": "python3"
  },
  "language_info": {
   "codemirror_mode": {
    "name": "ipython",
    "version": 3
   },
   "file_extension": ".py",
   "mimetype": "text/x-python",
   "name": "python",
   "nbconvert_exporter": "python",
   "pygments_lexer": "ipython3",
   "version": "3.5.2"
  }
 },
 "nbformat": 4,
 "nbformat_minor": 2
}
