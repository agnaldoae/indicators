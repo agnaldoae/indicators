{
 "cells": [
  {
   "cell_type": "code",
   "execution_count": 1,
   "metadata": {},
   "outputs": [],
   "source": [
    "import talib\n"
   ]
  },
  {
   "cell_type": "code",
   "execution_count": 2,
   "metadata": {},
   "outputs": [],
   "source": [
    "import numpy as np\n",
    "import pandas as pd"
   ]
  },
  {
   "cell_type": "code",
   "execution_count": 3,
   "metadata": {},
   "outputs": [],
   "source": [
    "teste = np.random.random(40)"
   ]
  },
  {
   "cell_type": "code",
   "execution_count": 4,
   "metadata": {},
   "outputs": [
    {
     "data": {
      "text/plain": [
       "array([0.10677447, 0.09491487, 0.79595187, 0.58486099, 0.3369761 ,\n",
       "       0.58064954, 0.49565002, 0.63300167, 0.91552666, 0.24612084,\n",
       "       0.44704609, 0.3646556 , 0.26218218, 0.42483388, 0.34422951,\n",
       "       0.96122447, 0.51043235, 0.67337378, 0.42269872, 0.1276166 ,\n",
       "       0.56662624, 0.44789215, 0.71511154, 0.42146539, 0.45012137,\n",
       "       0.33275315, 0.04440951, 0.26016603, 0.6422415 , 0.1608384 ,\n",
       "       0.32503253, 0.54330493, 0.52151253, 0.11427884, 0.81487772,\n",
       "       0.96606785, 0.28215813, 0.25141266, 0.10745555, 0.08928521])"
      ]
     },
     "execution_count": 4,
     "metadata": {},
     "output_type": "execute_result"
    }
   ],
   "source": [
    "teste"
   ]
  },
  {
   "cell_type": "code",
   "execution_count": 5,
   "metadata": {},
   "outputs": [
    {
     "name": "stdout",
     "output_type": "stream",
     "text": [
      "[       nan        nan        nan        nan        nan        nan\n",
      "        nan        nan        nan        nan        nan        nan\n",
      "        nan        nan        nan        nan        nan        nan\n",
      "        nan        nan        nan        nan        nan        nan\n",
      "        nan        nan        nan        nan        nan 0.44567818\n",
      " 0.45295345 0.46789979 0.45875181 0.44306574 0.45899579 0.47184307\n",
      " 0.46472667 0.45200704 0.42507133 0.41984348]\n"
     ]
    }
   ],
   "source": [
    "sma = talib.SMA(teste)\n",
    "print(sma)"
   ]
  },
  {
   "cell_type": "code",
   "execution_count": null,
   "metadata": {},
   "outputs": [],
   "source": []
  }
 ],
 "metadata": {
  "kernelspec": {
   "display_name": "Python 3",
   "language": "python",
   "name": "python3"
  },
  "language_info": {
   "codemirror_mode": {
    "name": "ipython",
    "version": 3
   },
   "file_extension": ".py",
   "mimetype": "text/x-python",
   "name": "python",
   "nbconvert_exporter": "python",
   "pygments_lexer": "ipython3",
   "version": "3.5.2"
  }
 },
 "nbformat": 4,
 "nbformat_minor": 2
}
